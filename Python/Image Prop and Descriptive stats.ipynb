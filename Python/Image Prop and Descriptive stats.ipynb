{
 "cells": [
  {
   "cell_type": "code",
   "execution_count": 1,
   "metadata": {},
   "outputs": [],
   "source": [
    "import ee\n",
    "import geemap"
   ]
  },
  {
   "cell_type": "code",
   "execution_count": 3,
   "metadata": {},
   "outputs": [
    {
     "data": {
      "application/vnd.jupyter.widget-view+json": {
       "model_id": "58b8633e1918483ea0196245fa95348a",
       "version_major": 2,
       "version_minor": 0
      },
      "text/plain": [
       "Map(center=[40, -100], controls=(WidgetControl(options=['position'], widget=HBox(children=(ToggleButton(value=…"
      ]
     },
     "metadata": {},
     "output_type": "display_data"
    }
   ],
   "source": [
    "Map = geemap.Map()\n",
    "Map"
   ]
  },
  {
   "cell_type": "code",
   "execution_count": null,
   "metadata": {},
   "outputs": [],
   "source": []
  },
  {
   "cell_type": "code",
   "execution_count": 4,
   "metadata": {},
   "outputs": [],
   "source": [
    "centroid = ee.Geometry.Point([-122.4439, 37.7538])\n",
    "\n",
    "landsat = ee.ImageCollection('LANDSAT/LC08/C01/T1_SR') \\\n",
    "    .filterBounds(centroid) \\\n",
    "    .first()\n",
    "\n",
    "landsat_vis = {\n",
    "    'min': 0,\n",
    "    'max': 3000,\n",
    "    'bands': ['B5', 'B4', 'B3']\n",
    "}\n",
    "\n",
    "Map.centerObject(centroid, 8)\n",
    "Map.addLayer(landsat, landsat_vis, \"Landsat-8\")"
   ]
  },
  {
   "cell_type": "code",
   "execution_count": null,
   "metadata": {},
   "outputs": [],
   "source": []
  },
  {
   "cell_type": "code",
   "execution_count": null,
   "metadata": {},
   "outputs": [],
   "source": []
  },
  {
   "cell_type": "code",
   "execution_count": 8,
   "metadata": {},
   "outputs": [],
   "source": [
    "naip = ee.ImageCollection('USDA/NAIP/DOQQ') \\\n",
    "    .filterBounds(centroid) \\\n",
    "    .first()\n",
    "\n",
    "naip_vis = {\n",
    "    'bands': ['N', 'R', 'G']\n",
    "}\n",
    "\n",
    "Map.addLayer(naip, naip_vis, 'NAIP')"
   ]
  },
  {
   "cell_type": "code",
   "execution_count": null,
   "metadata": {},
   "outputs": [],
   "source": []
  },
  {
   "cell_type": "code",
   "execution_count": 10,
   "metadata": {},
   "outputs": [
    {
     "data": {
      "text/plain": [
       "'2013-04-09'"
      ]
     },
     "execution_count": 10,
     "metadata": {},
     "output_type": "execute_result"
    }
   ],
   "source": [
    "ee.Date(landsat.get('system:time_start')).format('YYYY-MM-dd').getInfo()"
   ]
  },
  {
   "cell_type": "code",
   "execution_count": null,
   "metadata": {},
   "outputs": [],
   "source": []
  },
  {
   "cell_type": "code",
   "execution_count": 5,
   "metadata": {},
   "outputs": [
    {
     "data": {
      "text/plain": [
       "['IMAGE_QUALITY_TIRS',\n",
       " 'CLOUD_COVER',\n",
       " 'system:id',\n",
       " 'EARTH_SUN_DISTANCE',\n",
       " 'LANDSAT_ID',\n",
       " 'system:footprint',\n",
       " 'system:version',\n",
       " 'CLOUD_COVER_LAND',\n",
       " 'GEOMETRIC_RMSE_MODEL',\n",
       " 'SR_APP_VERSION',\n",
       " 'SATELLITE',\n",
       " 'SOLAR_AZIMUTH_ANGLE',\n",
       " 'IMAGE_QUALITY_OLI',\n",
       " 'system:time_end',\n",
       " 'WRS_PATH',\n",
       " 'system:time_start',\n",
       " 'SENSING_TIME',\n",
       " 'ESPA_VERSION',\n",
       " 'SOLAR_ZENITH_ANGLE',\n",
       " 'WRS_ROW',\n",
       " 'GEOMETRIC_RMSE_MODEL_Y',\n",
       " 'LEVEL1_PRODUCTION_DATE',\n",
       " 'GEOMETRIC_RMSE_MODEL_X',\n",
       " 'system:asset_size',\n",
       " 'PIXEL_QA_VERSION',\n",
       " 'system:index',\n",
       " 'system:bands',\n",
       " 'system:band_names']"
      ]
     },
     "execution_count": 5,
     "metadata": {},
     "output_type": "execute_result"
    }
   ],
   "source": [
    "# Getting image properties\n",
    "landsat.propertyNames().getInfo()"
   ]
  },
  {
   "cell_type": "code",
   "execution_count": 9,
   "metadata": {},
   "outputs": [
    {
     "data": {
      "text/plain": [
       "0.05"
      ]
     },
     "execution_count": 9,
     "metadata": {},
     "output_type": "execute_result"
    }
   ],
   "source": [
    "landsat.get('CLOUD_COVER').getInfo()"
   ]
  },
  {
   "cell_type": "code",
   "execution_count": null,
   "metadata": {},
   "outputs": [],
   "source": []
  },
  {
   "cell_type": "code",
   "execution_count": 7,
   "metadata": {},
   "outputs": [
    {
     "data": {
      "text/plain": [
       "'2013-04-09'"
      ]
     },
     "execution_count": 7,
     "metadata": {},
     "output_type": "execute_result"
    }
   ],
   "source": [
    "ee.Date(landsat.get('system:time_start')).format('YYYY-MM-dd').getInfo()"
   ]
  },
  {
   "cell_type": "code",
   "execution_count": 12,
   "metadata": {},
   "outputs": [
    {
     "name": "stdout",
     "output_type": "stream",
     "text": [
      "Downloading https://github.com/giswqs/geemap/archive/master.zip ...\n",
      "Unzipping geemap-master.zip ...\n",
      "Data downloaded to: C:\\Users\\Shivanand Nalgire\\Downloads\\geemap-master\n",
      "\n",
      "Please comment out 'geemap.update_package()' and restart the kernel to take effect:\n",
      "Jupyter menu -> Kernel -> Restart & Clear Output\n"
     ]
    }
   ],
   "source": [
    "geemap.update_package()"
   ]
  },
  {
   "cell_type": "code",
   "execution_count": null,
   "metadata": {},
   "outputs": [],
   "source": []
  },
  {
   "cell_type": "code",
   "execution_count": null,
   "metadata": {},
   "outputs": [],
   "source": []
  },
  {
   "cell_type": "code",
   "execution_count": null,
   "metadata": {},
   "outputs": [],
   "source": []
  }
 ],
 "metadata": {
  "kernelspec": {
   "display_name": "Python 3",
   "language": "python",
   "name": "python3"
  },
  "language_info": {
   "codemirror_mode": {
    "name": "ipython",
    "version": 3
   },
   "file_extension": ".py",
   "mimetype": "text/x-python",
   "name": "python",
   "nbconvert_exporter": "python",
   "pygments_lexer": "ipython3",
   "version": "3.8.3"
  }
 },
 "nbformat": 4,
 "nbformat_minor": 4
}
